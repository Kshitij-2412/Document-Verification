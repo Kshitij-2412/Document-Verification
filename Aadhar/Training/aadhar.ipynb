{
 "cells": [
  {
   "cell_type": "markdown",
   "metadata": {},
   "source": [
    "AADHAR VERIFICATION"
   ]
  },
  {
   "cell_type": "markdown",
   "metadata": {},
   "source": [
    "STEP 1 : Importing all the necessary Librarires for building the Model"
   ]
  },
  {
   "cell_type": "code",
   "execution_count": null,
   "metadata": {},
   "outputs": [],
   "source": [
    "import os\n",
    "import shutil\n",
    "import random\n",
    "import pickle\n",
    "import numpy as np\n",
    "from PIL import Image\n",
    "from sklearn.model_selection import train_test_split\n",
    "from keras.applications.vgg16 import VGG16\n",
    "from keras.models import Sequential\n",
    "from keras.layers import Dense, Flatten\n",
    "from keras.optimizers import Adam\n",
    "from sklearn.metrics import confusion_matrix, classification_report"
   ]
  },
  {
   "cell_type": "markdown",
   "metadata": {},
   "source": [
    "STEP 2 : Gather a labeled dataset consisting of real and fake Aadhaar card images"
   ]
  },
  {
   "cell_type": "code",
   "execution_count": null,
   "metadata": {},
   "outputs": [
    {
     "ename": "",
     "evalue": "",
     "output_type": "error",
     "traceback": [
      "\u001b[1;31mRunning cells with 'Python 3.12.1' requires the ipykernel package.\n",
      "\u001b[1;31mRun the following command to install 'ipykernel' into the Python environment. \n",
      "\u001b[1;31mCommand: 'c:/Users/kshit/AppData/Local/Programs/Python/Python312/python.exe -m pip install ipykernel -U --user --force-reinstall'"
     ]
    }
   ],
   "source": [
    "dataset_path = r\"C:\\Users\\kshit\\Downloads\\DocumentVerifcation\\DocumentVerifcation\\Aadhar\\Dataset\"\n",
    "# dataset_path = r\"G:\\DocumentVerifcation\\DocumentVerifcation\\Aadhar\\Dataset\"\n",
    "real_images_folder = os.path.join(dataset_path, \"Real\")\n",
    "fake_images_folder = os.path.join(dataset_path, \"Fake\")\n"
   ]
  },
  {
   "cell_type": "markdown",
   "metadata": {},
   "source": [
    "STEP 3 : Data Preprocessing: Convert the images to a consistent format and resize them"
   ]
  },
  {
   "cell_type": "code",
   "execution_count": 5,
   "metadata": {},
   "outputs": [],
   "source": [
    "target_size = (224, 224)  # Specify the desired target size for the images\n",
    "\n",
    "def load_and_preprocess_image(image_path, target_size):\n",
    "    image = Image.open(image_path).convert('RGB')\n",
    "    image = image.resize(target_size)\n",
    "    image = np.array(image) / 255.0  # Normalize pixel values to the range of [0, 1]\n",
    "    return image"
   ]
  },
  {
   "cell_type": "markdown",
   "metadata": {},
   "source": [
    "STEP 4 : Splitting the Dataset: Split the dataset into training and validation sets"
   ]
  },
  {
   "cell_type": "code",
   "execution_count": 6,
   "metadata": {},
   "outputs": [],
   "source": [
    "train_real_images, val_real_images = train_test_split(os.listdir(real_images_folder), test_size=0.2, random_state=42)\n",
    "train_fake_images, val_fake_images = train_test_split(os.listdir(fake_images_folder), test_size=0.2, random_state=42)"
   ]
  },
  {
   "cell_type": "markdown",
   "metadata": {},
   "source": [
    "STEP 5 : Feature Extraction"
   ]
  },
  {
   "cell_type": "code",
   "execution_count": 7,
   "metadata": {},
   "outputs": [
    {
     "name": "stdout",
     "output_type": "stream",
     "text": [
      "WARNING:tensorflow:From c:\\Users\\kshit\\AppData\\Local\\Programs\\Python\\Python311\\Lib\\site-packages\\keras\\src\\backend.py:1398: The name tf.executing_eagerly_outside_functions is deprecated. Please use tf.compat.v1.executing_eagerly_outside_functions instead.\n",
      "\n",
      "WARNING:tensorflow:From c:\\Users\\kshit\\AppData\\Local\\Programs\\Python\\Python311\\Lib\\site-packages\\keras\\src\\layers\\pooling\\max_pooling2d.py:161: The name tf.nn.max_pool is deprecated. Please use tf.nn.max_pool2d instead.\n",
      "\n",
      "Downloading data from https://storage.googleapis.com/tensorflow/keras-applications/vgg16/vgg16_weights_tf_dim_ordering_tf_kernels_notop.h5\n",
      "58889256/58889256 [==============================] - 24s 0us/step\n",
      "1/1 [==============================] - 0s 474ms/step\n",
      "1/1 [==============================] - 0s 141ms/step\n",
      "1/1 [==============================] - 0s 138ms/step\n",
      "1/1 [==============================] - 0s 139ms/step\n",
      "1/1 [==============================] - 0s 147ms/step\n",
      "1/1 [==============================] - 0s 138ms/step\n",
      "1/1 [==============================] - 0s 132ms/step\n",
      "1/1 [==============================] - 0s 139ms/step\n",
      "1/1 [==============================] - 0s 142ms/step\n",
      "1/1 [==============================] - 0s 134ms/step\n",
      "1/1 [==============================] - 0s 136ms/step\n",
      "1/1 [==============================] - 0s 141ms/step\n",
      "1/1 [==============================] - 0s 137ms/step\n",
      "1/1 [==============================] - 0s 144ms/step\n",
      "1/1 [==============================] - 0s 135ms/step\n",
      "1/1 [==============================] - 0s 141ms/step\n",
      "1/1 [==============================] - 0s 139ms/step\n",
      "1/1 [==============================] - 0s 138ms/step\n",
      "1/1 [==============================] - 0s 137ms/step\n",
      "1/1 [==============================] - 0s 137ms/step\n",
      "1/1 [==============================] - 0s 141ms/step\n",
      "1/1 [==============================] - 0s 137ms/step\n",
      "1/1 [==============================] - 0s 255ms/step\n",
      "1/1 [==============================] - 0s 137ms/step\n",
      "1/1 [==============================] - 0s 140ms/step\n",
      "1/1 [==============================] - 0s 136ms/step\n",
      "1/1 [==============================] - 0s 140ms/step\n",
      "1/1 [==============================] - 0s 134ms/step\n",
      "1/1 [==============================] - 0s 253ms/step\n",
      "1/1 [==============================] - 0s 137ms/step\n",
      "1/1 [==============================] - 0s 133ms/step\n",
      "1/1 [==============================] - 0s 140ms/step\n",
      "1/1 [==============================] - 0s 142ms/step\n",
      "1/1 [==============================] - 0s 137ms/step\n",
      "1/1 [==============================] - 0s 136ms/step\n",
      "1/1 [==============================] - 0s 138ms/step\n",
      "1/1 [==============================] - 0s 135ms/step\n",
      "1/1 [==============================] - 0s 137ms/step\n",
      "1/1 [==============================] - 0s 145ms/step\n",
      "1/1 [==============================] - 0s 141ms/step\n",
      "1/1 [==============================] - 0s 152ms/step\n",
      "1/1 [==============================] - 0s 149ms/step\n",
      "1/1 [==============================] - 0s 138ms/step\n",
      "1/1 [==============================] - 0s 145ms/step\n",
      "1/1 [==============================] - 0s 146ms/step\n",
      "1/1 [==============================] - 0s 173ms/step\n",
      "1/1 [==============================] - 0s 166ms/step\n",
      "1/1 [==============================] - 0s 172ms/step\n",
      "1/1 [==============================] - 0s 157ms/step\n",
      "1/1 [==============================] - 0s 155ms/step\n",
      "1/1 [==============================] - 0s 160ms/step\n",
      "1/1 [==============================] - 0s 156ms/step\n",
      "1/1 [==============================] - 0s 155ms/step\n",
      "1/1 [==============================] - 0s 170ms/step\n",
      "1/1 [==============================] - 0s 145ms/step\n",
      "1/1 [==============================] - 0s 184ms/step\n",
      "1/1 [==============================] - 0s 143ms/step\n",
      "1/1 [==============================] - 0s 144ms/step\n",
      "1/1 [==============================] - 0s 148ms/step\n",
      "1/1 [==============================] - 0s 145ms/step\n",
      "1/1 [==============================] - 0s 143ms/step\n",
      "1/1 [==============================] - 0s 147ms/step\n",
      "1/1 [==============================] - 0s 157ms/step\n",
      "1/1 [==============================] - 0s 154ms/step\n",
      "1/1 [==============================] - 0s 149ms/step\n",
      "1/1 [==============================] - 0s 147ms/step\n",
      "1/1 [==============================] - 0s 147ms/step\n",
      "1/1 [==============================] - 0s 144ms/step\n",
      "1/1 [==============================] - 0s 144ms/step\n",
      "1/1 [==============================] - 0s 146ms/step\n",
      "1/1 [==============================] - 0s 144ms/step\n",
      "1/1 [==============================] - 0s 143ms/step\n",
      "1/1 [==============================] - 0s 143ms/step\n",
      "1/1 [==============================] - 0s 146ms/step\n",
      "1/1 [==============================] - 0s 146ms/step\n",
      "1/1 [==============================] - 0s 146ms/step\n",
      "1/1 [==============================] - 0s 147ms/step\n",
      "1/1 [==============================] - 0s 148ms/step\n",
      "1/1 [==============================] - 0s 154ms/step\n",
      "1/1 [==============================] - 0s 150ms/step\n",
      "1/1 [==============================] - 0s 143ms/step\n",
      "1/1 [==============================] - 0s 145ms/step\n",
      "1/1 [==============================] - 0s 146ms/step\n",
      "1/1 [==============================] - 0s 146ms/step\n",
      "1/1 [==============================] - 0s 149ms/step\n",
      "1/1 [==============================] - 0s 142ms/step\n",
      "1/1 [==============================] - 0s 144ms/step\n",
      "1/1 [==============================] - 0s 149ms/step\n",
      "1/1 [==============================] - 0s 144ms/step\n",
      "1/1 [==============================] - 0s 143ms/step\n",
      "1/1 [==============================] - 0s 143ms/step\n",
      "1/1 [==============================] - 0s 148ms/step\n",
      "1/1 [==============================] - 0s 145ms/step\n",
      "1/1 [==============================] - 0s 264ms/step\n",
      "1/1 [==============================] - 0s 145ms/step\n",
      "1/1 [==============================] - 0s 142ms/step\n",
      "1/1 [==============================] - 0s 141ms/step\n",
      "1/1 [==============================] - 0s 148ms/step\n",
      "1/1 [==============================] - 0s 140ms/step\n",
      "1/1 [==============================] - 0s 144ms/step\n",
      "1/1 [==============================] - 0s 140ms/step\n",
      "1/1 [==============================] - 0s 143ms/step\n",
      "1/1 [==============================] - 0s 139ms/step\n",
      "1/1 [==============================] - 0s 138ms/step\n",
      "1/1 [==============================] - 0s 142ms/step\n",
      "1/1 [==============================] - 0s 138ms/step\n",
      "1/1 [==============================] - 0s 139ms/step\n",
      "1/1 [==============================] - 0s 142ms/step\n",
      "1/1 [==============================] - 0s 142ms/step\n",
      "1/1 [==============================] - 0s 150ms/step\n"
     ]
    }
   ],
   "source": [
    "def extract_features(image_paths):\n",
    "    model = VGG16(weights='imagenet', include_top=False, pooling='avg')\n",
    "    features = []\n",
    "    for image_path in image_paths:\n",
    "        image = load_and_preprocess_image(os.path.join(dataset_path, image_path), target_size)\n",
    "        image = np.expand_dims(image, axis=0)  # Add batch dimension\n",
    "        features.append(model.predict(image))\n",
    "    return np.array(features)\n",
    "\n",
    "train_real_features = extract_features([os.path.join(real_images_folder, img) for img in train_real_images])\n",
    "val_real_features = extract_features([os.path.join(real_images_folder, img) for img in val_real_images])\n",
    "train_fake_features = extract_features([os.path.join(fake_images_folder, img) for img in train_fake_images])\n",
    "val_fake_features = extract_features([os.path.join(fake_images_folder, img) for img in val_fake_images])\n",
    "\n",
    "train_features = np.concatenate((train_real_features, train_fake_features))\n",
    "val_features = np.concatenate((val_real_features, val_fake_features))"
   ]
  },
  {
   "cell_type": "markdown",
   "metadata": {},
   "source": [
    "STEP 6 : Model Training"
   ]
  },
  {
   "cell_type": "code",
   "execution_count": 8,
   "metadata": {},
   "outputs": [
    {
     "name": "stdout",
     "output_type": "stream",
     "text": [
      "Epoch 1/50\n",
      "WARNING:tensorflow:From c:\\Users\\kshit\\AppData\\Local\\Programs\\Python\\Python311\\Lib\\site-packages\\keras\\src\\utils\\tf_utils.py:492: The name tf.ragged.RaggedTensorValue is deprecated. Please use tf.compat.v1.ragged.RaggedTensorValue instead.\n",
      "\n",
      "WARNING:tensorflow:From c:\\Users\\kshit\\AppData\\Local\\Programs\\Python\\Python311\\Lib\\site-packages\\keras\\src\\engine\\base_layer_utils.py:384: The name tf.executing_eagerly_outside_functions is deprecated. Please use tf.compat.v1.executing_eagerly_outside_functions instead.\n",
      "\n",
      "3/3 [==============================] - 2s 219ms/step - loss: 0.6214 - accuracy: 0.7471 - val_loss: 0.5808 - val_accuracy: 0.7391\n",
      "Epoch 2/50\n",
      "3/3 [==============================] - 0s 23ms/step - loss: 0.5719 - accuracy: 0.7471 - val_loss: 0.5579 - val_accuracy: 0.7391\n",
      "Epoch 3/50\n",
      "3/3 [==============================] - 0s 23ms/step - loss: 0.5453 - accuracy: 0.7471 - val_loss: 0.5476 - val_accuracy: 0.7391\n",
      "Epoch 4/50\n",
      "3/3 [==============================] - 0s 22ms/step - loss: 0.5297 - accuracy: 0.7471 - val_loss: 0.5292 - val_accuracy: 0.7391\n",
      "Epoch 5/50\n",
      "3/3 [==============================] - 0s 21ms/step - loss: 0.5075 - accuracy: 0.7471 - val_loss: 0.5060 - val_accuracy: 0.7391\n",
      "Epoch 6/50\n",
      "3/3 [==============================] - 0s 22ms/step - loss: 0.4806 - accuracy: 0.7471 - val_loss: 0.4819 - val_accuracy: 0.7391\n",
      "Epoch 7/50\n",
      "3/3 [==============================] - 0s 22ms/step - loss: 0.4498 - accuracy: 0.7471 - val_loss: 0.4524 - val_accuracy: 0.7391\n",
      "Epoch 8/50\n",
      "3/3 [==============================] - 0s 21ms/step - loss: 0.4145 - accuracy: 0.7471 - val_loss: 0.4115 - val_accuracy: 0.7391\n",
      "Epoch 9/50\n",
      "3/3 [==============================] - 0s 21ms/step - loss: 0.3686 - accuracy: 0.7471 - val_loss: 0.3652 - val_accuracy: 0.7391\n",
      "Epoch 10/50\n",
      "3/3 [==============================] - 0s 22ms/step - loss: 0.3176 - accuracy: 0.7471 - val_loss: 0.3157 - val_accuracy: 0.7826\n",
      "Epoch 11/50\n",
      "3/3 [==============================] - 0s 23ms/step - loss: 0.2647 - accuracy: 0.8851 - val_loss: 0.2593 - val_accuracy: 0.8696\n",
      "Epoch 12/50\n",
      "3/3 [==============================] - 0s 22ms/step - loss: 0.2173 - accuracy: 0.9425 - val_loss: 0.2195 - val_accuracy: 0.9130\n",
      "Epoch 13/50\n",
      "3/3 [==============================] - 0s 23ms/step - loss: 0.1859 - accuracy: 0.9425 - val_loss: 0.1741 - val_accuracy: 1.0000\n",
      "Epoch 14/50\n",
      "3/3 [==============================] - 0s 21ms/step - loss: 0.1364 - accuracy: 1.0000 - val_loss: 0.1335 - val_accuracy: 1.0000\n",
      "Epoch 15/50\n",
      "3/3 [==============================] - 0s 31ms/step - loss: 0.0971 - accuracy: 1.0000 - val_loss: 0.1072 - val_accuracy: 1.0000\n",
      "Epoch 16/50\n",
      "3/3 [==============================] - 0s 29ms/step - loss: 0.0745 - accuracy: 1.0000 - val_loss: 0.0635 - val_accuracy: 1.0000\n",
      "Epoch 17/50\n",
      "3/3 [==============================] - 0s 27ms/step - loss: 0.0524 - accuracy: 1.0000 - val_loss: 0.0495 - val_accuracy: 1.0000\n",
      "Epoch 18/50\n",
      "3/3 [==============================] - 0s 26ms/step - loss: 0.0331 - accuracy: 1.0000 - val_loss: 0.0489 - val_accuracy: 1.0000\n",
      "Epoch 19/50\n",
      "3/3 [==============================] - 0s 27ms/step - loss: 0.0207 - accuracy: 1.0000 - val_loss: 0.0160 - val_accuracy: 1.0000\n",
      "Epoch 20/50\n",
      "3/3 [==============================] - 0s 25ms/step - loss: 0.0099 - accuracy: 1.0000 - val_loss: 0.0291 - val_accuracy: 1.0000\n",
      "Epoch 21/50\n",
      "3/3 [==============================] - 0s 26ms/step - loss: 0.0104 - accuracy: 1.0000 - val_loss: 0.0089 - val_accuracy: 1.0000\n",
      "Epoch 22/50\n",
      "3/3 [==============================] - 0s 29ms/step - loss: 0.0031 - accuracy: 1.0000 - val_loss: 0.0093 - val_accuracy: 1.0000\n",
      "Epoch 23/50\n",
      "3/3 [==============================] - 0s 29ms/step - loss: 0.0040 - accuracy: 1.0000 - val_loss: 0.0111 - val_accuracy: 1.0000\n",
      "Epoch 24/50\n",
      "3/3 [==============================] - 0s 24ms/step - loss: 0.0024 - accuracy: 1.0000 - val_loss: 0.0035 - val_accuracy: 1.0000\n",
      "Epoch 25/50\n",
      "3/3 [==============================] - 0s 23ms/step - loss: 0.0010 - accuracy: 1.0000 - val_loss: 0.0033 - val_accuracy: 1.0000\n",
      "Epoch 26/50\n",
      "3/3 [==============================] - 0s 24ms/step - loss: 0.0010 - accuracy: 1.0000 - val_loss: 0.0050 - val_accuracy: 1.0000\n",
      "Epoch 27/50\n",
      "3/3 [==============================] - 0s 24ms/step - loss: 0.0011 - accuracy: 1.0000 - val_loss: 0.0040 - val_accuracy: 1.0000\n",
      "Epoch 28/50\n",
      "3/3 [==============================] - 0s 22ms/step - loss: 7.8291e-04 - accuracy: 1.0000 - val_loss: 0.0018 - val_accuracy: 1.0000\n",
      "Epoch 29/50\n",
      "3/3 [==============================] - 0s 24ms/step - loss: 4.0484e-04 - accuracy: 1.0000 - val_loss: 0.0015 - val_accuracy: 1.0000\n",
      "Epoch 30/50\n",
      "3/3 [==============================] - 0s 23ms/step - loss: 3.8475e-04 - accuracy: 1.0000 - val_loss: 0.0018 - val_accuracy: 1.0000\n",
      "Epoch 31/50\n",
      "3/3 [==============================] - 0s 23ms/step - loss: 4.1598e-04 - accuracy: 1.0000 - val_loss: 0.0020 - val_accuracy: 1.0000\n",
      "Epoch 32/50\n",
      "3/3 [==============================] - 0s 22ms/step - loss: 4.0871e-04 - accuracy: 1.0000 - val_loss: 0.0018 - val_accuracy: 1.0000\n",
      "Epoch 33/50\n",
      "3/3 [==============================] - 0s 21ms/step - loss: 3.4317e-04 - accuracy: 1.0000 - val_loss: 0.0014 - val_accuracy: 1.0000\n",
      "Epoch 34/50\n",
      "3/3 [==============================] - 0s 23ms/step - loss: 2.9407e-04 - accuracy: 1.0000 - val_loss: 0.0011 - val_accuracy: 1.0000\n",
      "Epoch 35/50\n",
      "3/3 [==============================] - 0s 21ms/step - loss: 2.4072e-04 - accuracy: 1.0000 - val_loss: 0.0010 - val_accuracy: 1.0000\n",
      "Epoch 36/50\n",
      "3/3 [==============================] - 0s 21ms/step - loss: 2.2601e-04 - accuracy: 1.0000 - val_loss: 0.0010 - val_accuracy: 1.0000\n",
      "Epoch 37/50\n",
      "3/3 [==============================] - 0s 21ms/step - loss: 2.1160e-04 - accuracy: 1.0000 - val_loss: 0.0011 - val_accuracy: 1.0000\n",
      "Epoch 38/50\n",
      "3/3 [==============================] - 0s 22ms/step - loss: 2.0631e-04 - accuracy: 1.0000 - val_loss: 0.0011 - val_accuracy: 1.0000\n",
      "Epoch 39/50\n",
      "3/3 [==============================] - 0s 29ms/step - loss: 1.9869e-04 - accuracy: 1.0000 - val_loss: 0.0010 - val_accuracy: 1.0000\n",
      "Epoch 40/50\n",
      "3/3 [==============================] - 0s 25ms/step - loss: 1.8964e-04 - accuracy: 1.0000 - val_loss: 9.7391e-04 - val_accuracy: 1.0000\n",
      "Epoch 41/50\n",
      "3/3 [==============================] - 0s 22ms/step - loss: 1.8015e-04 - accuracy: 1.0000 - val_loss: 9.2674e-04 - val_accuracy: 1.0000\n",
      "Epoch 42/50\n",
      "3/3 [==============================] - 0s 23ms/step - loss: 1.7155e-04 - accuracy: 1.0000 - val_loss: 8.8809e-04 - val_accuracy: 1.0000\n",
      "Epoch 43/50\n",
      "3/3 [==============================] - 0s 22ms/step - loss: 1.6540e-04 - accuracy: 1.0000 - val_loss: 8.6343e-04 - val_accuracy: 1.0000\n",
      "Epoch 44/50\n",
      "3/3 [==============================] - 0s 21ms/step - loss: 1.5949e-04 - accuracy: 1.0000 - val_loss: 8.5111e-04 - val_accuracy: 1.0000\n",
      "Epoch 45/50\n",
      "3/3 [==============================] - 0s 22ms/step - loss: 1.5661e-04 - accuracy: 1.0000 - val_loss: 8.4339e-04 - val_accuracy: 1.0000\n",
      "Epoch 46/50\n",
      "3/3 [==============================] - 0s 22ms/step - loss: 1.5218e-04 - accuracy: 1.0000 - val_loss: 8.3342e-04 - val_accuracy: 1.0000\n",
      "Epoch 47/50\n",
      "3/3 [==============================] - 0s 26ms/step - loss: 1.4880e-04 - accuracy: 1.0000 - val_loss: 8.2162e-04 - val_accuracy: 1.0000\n",
      "Epoch 48/50\n",
      "3/3 [==============================] - 0s 26ms/step - loss: 1.4419e-04 - accuracy: 1.0000 - val_loss: 8.0536e-04 - val_accuracy: 1.0000\n",
      "Epoch 49/50\n",
      "3/3 [==============================] - 0s 22ms/step - loss: 1.4000e-04 - accuracy: 1.0000 - val_loss: 7.8900e-04 - val_accuracy: 1.0000\n",
      "Epoch 50/50\n",
      "3/3 [==============================] - 0s 25ms/step - loss: 1.3648e-04 - accuracy: 1.0000 - val_loss: 7.7406e-04 - val_accuracy: 1.0000\n"
     ]
    },
    {
     "data": {
      "text/plain": [
       "<keras.src.callbacks.History at 0x26602676a10>"
      ]
     },
     "execution_count": 8,
     "metadata": {},
     "output_type": "execute_result"
    }
   ],
   "source": [
    "train_labels = np.array([1] * len(train_real_features) + [0] * len(train_fake_features))\n",
    "val_labels = np.array([1] * len(val_real_features) + [0] * len(val_fake_features))\n",
    "\n",
    "model = Sequential()\n",
    "model.add(Flatten(input_shape=train_features.shape[1:]))\n",
    "model.add(Dense(64, activation='relu'))\n",
    "model.add(Dense(64, activation='relu'))\n",
    "model.add(Dense(64, activation='relu'))\n",
    "model.add(Dense(64, activation='relu'))\n",
    "model.add(Dense(64, activation='relu'))\n",
    "model.add(Dense(1, activation='sigmoid'))\n",
    "\n",
    "model.compile(optimizer=Adam(), loss='binary_crossentropy', metrics=['accuracy'])\n",
    "model.fit(train_features, train_labels, batch_size=32, epochs=50, validation_data=(val_features, val_labels))\n"
   ]
  },
  {
   "cell_type": "code",
   "execution_count": 9,
   "metadata": {},
   "outputs": [
    {
     "name": "stdout",
     "output_type": "stream",
     "text": [
      "1/1 [==============================] - 0s 82ms/step\n",
      "Test Confusion Matrix:\n",
      "[[17  0]\n",
      " [ 0  6]]\n",
      "Test Accuracy: 1.0\n"
     ]
    }
   ],
   "source": [
    "import seaborn as sns\n",
    "import matplotlib.pyplot as plt\n",
    "test_labels = np.array([1] * len(val_real_features) + [0] * len(val_fake_features))\n",
    "\n",
    "test_predictions = model.predict(val_features)\n",
    "test_predicted_labels = np.where(test_predictions > 0.5, 1, 0)\n",
    "\n",
    "test_cm = confusion_matrix(test_labels, test_predicted_labels)\n",
    "test_accuracy = np.sum(np.diag(test_cm)) / np.sum(test_cm)\n",
    "\n",
    "print(\"Test Confusion Matrix:\")\n",
    "print(test_cm)\n",
    "print(\"Test Accuracy:\", test_accuracy)"
   ]
  },
  {
   "cell_type": "markdown",
   "metadata": {},
   "source": [
    "Plot the confusion matrix"
   ]
  },
  {
   "cell_type": "code",
   "execution_count": 10,
   "metadata": {},
   "outputs": [
    {
     "data": {
      "image/png": "[encoded data removed]",
      "text/plain": [
       "<Figure size 800x600 with 1 Axes>"
      ]
     },
     "metadata": {},
     "output_type": "display_data"
    }
   ],
   "source": [
    "plt.figure(figsize=(8, 6))\n",
    "sns.heatmap(test_cm, annot=True, fmt=\"d\", cmap=\"Blues\", cbar=False,\n",
    "            xticklabels=[\"Fake\", \"Real\"], yticklabels=[\"Fake\", \"Real\"])\n",
    "plt.xlabel(\"Predicted\")\n",
    "plt.ylabel(\"True\")\n",
    "plt.title(\"Confusion Matrix\")\n",
    "plt.show()"
   ]
  },
  {
   "cell_type": "markdown",
   "metadata": {},
   "source": [
    "STEP 7 - Model Evaluation"
   ]
  },
  {
   "cell_type": "code",
   "execution_count": null,
   "metadata": {},
   "outputs": [
    {
     "ename": "",
     "evalue": "",
     "output_type": "error",
     "traceback": [
      "\u001b[1;31mRunning cells with 'Python 3.12.1' requires the ipykernel package.\n",
      "\u001b[1;31mRun the following command to install 'ipykernel' into the Python environment. \n",
      "\u001b[1;31mCommand: 'c:/Users/kshit/AppData/Local/Programs/Python/Python312/python.exe -m pip install ipykernel -U --user --force-reinstall'"
     ]
    }
   ],
   "source": [
    "test_images_folder = r\"C:\\Users\\kshit\\Downloads\\DocumentVerifcation\\DocumentVerifcation\\Aadhar\\Testing\"  # Update this with the path to your test images folder\n",
    "test_image_paths = [os.path.join(test_images_folder, img) for img in os.listdir(test_images_folder)]\n",
    "test_features = extract_features(test_image_paths)\n",
    "\n",
    "predictions = model.predict(test_features)\n",
    "predicted_labels = [\"Real\" if pred > 0.5 else \"Fake\" for pred in predictions]\n",
    "\n",
    "for image_path, label in zip(test_image_paths, predicted_labels):\n",
    "    print(f\"{image_path}: {label}\")"
   ]
  },
  {
   "cell_type": "markdown",
   "metadata": {},
   "source": [
    "STEP 8 - Deploying the model as .pkl, .h5, .json"
   ]
  },
  {
   "cell_type": "code",
   "execution_count": 16,
   "metadata": {},
   "outputs": [
    {
     "data": {
      "text/plain": [
       "'C:\\\\Users\\\\kshit\\\\Downloads\\\\DocumentVerifcation\\\\DocumentVerifcation\\\\Aadhar\\\\Training\\\\Models_Trained\\\\model.pkl'"
      ]
     },
     "execution_count": 16,
     "metadata": {},
     "output_type": "execute_result"
    }
   ],
   "source": [
    "import pickle\n",
    "import h5py\n",
    "import os\n",
    "import shutil\n",
    "\n",
    "# Assuming you have trained a model and stored it in the 'model' variable\n",
    "\n",
    "# Save model as HDF5 file\n",
    "h5_filename = 'model.h5'\n",
    "model.save(h5_filename)\n",
    "\n",
    "# Save model as pickle file\n",
    "pickle_filename = 'model.pkl'\n",
    "with open(pickle_filename, 'wb') as f:\n",
    "    pickle.dump(model, f)\n",
    "\n",
    "# Specify the folder path to save the model files\n",
    "folder_path = r'C:\\Users\\kshit\\Downloads\\DocumentVerifcation\\DocumentVerifcation\\Aadhar\\Training\\Models_Trained'\n",
    "\n",
    "# Create the folder if it doesn't exist\n",
    "if not os.path.exists(folder_path):\n",
    "    os.makedirs(folder_path)\n",
    "\n",
    "# Move the saved model files to the folder\n",
    "h5_filepath = os.path.join(folder_path, h5_filename)\n",
    "pickle_filepath = os.path.join(folder_path, pickle_filename)\n",
    "shutil.move(h5_filename, h5_filepath)\n",
    "shutil.move(pickle_filename, pickle_filepath)\n"
   ]
  }
 ],
 "metadata": {
  "kernelspec": {
   "display_name": "Python 3",
   "language": "python",
   "name": "python3"
  },
  "language_info": {
   "codemirror_mode": {
    "name": "ipython",
    "version": 3
   },
   "file_extension": ".py",
   "mimetype": "text/x-python",
   "name": "python",
   "nbconvert_exporter": "python",
   "pygments_lexer": "ipython3",
   "version": "3.12.1"
  },
  "orig_nbformat": 4
 },
 "nbformat": 4,
 "nbformat_minor": 2
}
